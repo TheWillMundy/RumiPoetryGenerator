{
 "cells": [
  {
   "cell_type": "code",
   "execution_count": 1,
   "metadata": {},
   "outputs": [
    {
     "name": "stdout",
     "output_type": "stream",
     "text": [
      "Hello!\n"
     ]
    }
   ],
   "source": [
    "print(\"Hello!\")"
   ]
  },
  {
   "cell_type": "code",
   "execution_count": 18,
   "metadata": {},
   "outputs": [
    {
     "data": {
      "text/html": [
       "<div>\n",
       "<style scoped>\n",
       "    .dataframe tbody tr th:only-of-type {\n",
       "        vertical-align: middle;\n",
       "    }\n",
       "\n",
       "    .dataframe tbody tr th {\n",
       "        vertical-align: top;\n",
       "    }\n",
       "\n",
       "    .dataframe thead th {\n",
       "        text-align: right;\n",
       "    }\n",
       "</style>\n",
       "<table border=\"1\" class=\"dataframe\">\n",
       "  <thead>\n",
       "    <tr style=\"text-align: right;\">\n",
       "      <th></th>\n",
       "      <th>Content</th>\n",
       "      <th>Title</th>\n",
       "    </tr>\n",
       "  </thead>\n",
       "  <tbody>\n",
       "    <tr>\n",
       "      <th>0</th>\n",
       "      <td>If anyone asks you\\nhow the perfect satisfacti...</td>\n",
       "      <td>No Title</td>\n",
       "    </tr>\n",
       "    <tr>\n",
       "      <th>1</th>\n",
       "      <td>Love is the Water of Life\\n\\nEverything other ...</td>\n",
       "      <td>No Title</td>\n",
       "    </tr>\n",
       "    <tr>\n",
       "      <th>2</th>\n",
       "      <td>A moment of happiness,\\n\\nyou and I sitting on...</td>\n",
       "      <td>No Title</td>\n",
       "    </tr>\n",
       "    <tr>\n",
       "      <th>3</th>\n",
       "      <td>Lovers\\n\\nO lovers, lovers it is time\\nto set ...</td>\n",
       "      <td>No Title</td>\n",
       "    </tr>\n",
       "    <tr>\n",
       "      <th>4</th>\n",
       "      <td>All through eternity\\n\\nBeauty unveils His exq...</td>\n",
       "      <td>No Title</td>\n",
       "    </tr>\n",
       "    <tr>\n",
       "      <th>5</th>\n",
       "      <td>Let go of your worries\\n\\nand be completely cl...</td>\n",
       "      <td>No Title</td>\n",
       "    </tr>\n",
       "  </tbody>\n",
       "</table>\n",
       "</div>"
      ],
      "text/plain": [
       "                                             Content     Title\n",
       "0  If anyone asks you\\nhow the perfect satisfacti...  No Title\n",
       "1  Love is the Water of Life\\n\\nEverything other ...  No Title\n",
       "2  A moment of happiness,\\n\\nyou and I sitting on...  No Title\n",
       "3  Lovers\\n\\nO lovers, lovers it is time\\nto set ...  No Title\n",
       "4  All through eternity\\n\\nBeauty unveils His exq...  No Title\n",
       "5  Let go of your worries\\n\\nand be completely cl...  No Title"
      ]
     },
     "execution_count": 18,
     "metadata": {},
     "output_type": "execute_result"
    }
   ],
   "source": [
    "# Load data\n",
    "import pandas as pd\n",
    "data_csv = pd.read_csv('./data/new-rumi-sample.csv', index_col=None)\n",
    "data_csv['Title'].fillna(\"No Title\", inplace=True)\n",
    "data_csv.head(6)"
   ]
  },
  {
   "cell_type": "code",
   "execution_count": 19,
   "metadata": {},
   "outputs": [
    {
     "data": {
      "text/plain": [
       "52"
      ]
     },
     "execution_count": 19,
     "metadata": {},
     "output_type": "execute_result"
    }
   ],
   "source": [
    "len(data_csv)"
   ]
  },
  {
   "cell_type": "code",
   "execution_count": 20,
   "metadata": {},
   "outputs": [],
   "source": [
    "import pandas as pd\n",
    "from sklearn.model_selection import train_test_split\n",
    "import re"
   ]
  },
  {
   "cell_type": "code",
   "execution_count": 21,
   "metadata": {},
   "outputs": [],
   "source": [
    "train_test_ratio = 0.9\n",
    "train_valid_ratio = 7/9\n",
    "df_full_train, df_test = train_test_split(data_csv, train_size = train_test_ratio, random_state = 1)\n",
    "df_train, df_valid = train_test_split(df_full_train, train_size = train_valid_ratio, random_state = 1)"
   ]
  },
  {
   "cell_type": "code",
   "execution_count": 22,
   "metadata": {},
   "outputs": [],
   "source": [
    "def build_dataset(df, dest_path):\n",
    "    f = open(dest_path, 'w')\n",
    "    data = ''\n",
    "    summaries = df['Content'].tolist()\n",
    "    for summary in summaries:\n",
    "        summary = str(summary).strip()\n",
    "        summary = re.sub(r\"\\s\", \" \", summary)\n",
    "        bos_token = '<BOS>'\n",
    "        eos_token = '<EOS>'\n",
    "        data += bos_token + ' ' + summary + ' ' + eos_token + '\\n'\n",
    "        \n",
    "    f.write(data)"
   ]
  },
  {
   "cell_type": "code",
   "execution_count": 23,
   "metadata": {},
   "outputs": [],
   "source": [
    "build_dataset(df_train, './data/train.txt')\n",
    "build_dataset(df_valid, './data/valid.txt')\n",
    "build_dataset(df_test, './data/test.txt')"
   ]
  },
  {
   "cell_type": "code",
   "execution_count": 24,
   "metadata": {},
   "outputs": [
    {
     "data": {
      "text/html": [
       "<div>\n",
       "<style scoped>\n",
       "    .dataframe tbody tr th:only-of-type {\n",
       "        vertical-align: middle;\n",
       "    }\n",
       "\n",
       "    .dataframe tbody tr th {\n",
       "        vertical-align: top;\n",
       "    }\n",
       "\n",
       "    .dataframe thead th {\n",
       "        text-align: right;\n",
       "    }\n",
       "</style>\n",
       "<table border=\"1\" class=\"dataframe\">\n",
       "  <thead>\n",
       "    <tr style=\"text-align: right;\">\n",
       "      <th></th>\n",
       "      <th>Content</th>\n",
       "      <th>Title</th>\n",
       "    </tr>\n",
       "  </thead>\n",
       "  <tbody>\n",
       "    <tr>\n",
       "      <th>15</th>\n",
       "      <td>Because I cannot sleep\\nI make music at night....</td>\n",
       "      <td>No Title</td>\n",
       "    </tr>\n",
       "    <tr>\n",
       "      <th>6</th>\n",
       "      <td>This is love: to fly toward a secret sky,\\n\\nt...</td>\n",
       "      <td>No Title</td>\n",
       "    </tr>\n",
       "    <tr>\n",
       "      <th>47</th>\n",
       "      <td>You come to us\\nfrom another world\\n\\nFrom bey...</td>\n",
       "      <td>THE ALCHEMY OF LOVE\\n</td>\n",
       "    </tr>\n",
       "    <tr>\n",
       "      <th>7</th>\n",
       "      <td>Love is reckless; not reason.\\n\\nReason seeks ...</td>\n",
       "      <td>No Title</td>\n",
       "    </tr>\n",
       "    <tr>\n",
       "      <th>16</th>\n",
       "      <td>A lifetime without Love is of no account\\n\\nLo...</td>\n",
       "      <td>No Title</td>\n",
       "    </tr>\n",
       "  </tbody>\n",
       "</table>\n",
       "</div>"
      ],
      "text/plain": [
       "                                              Content                  Title\n",
       "15  Because I cannot sleep\\nI make music at night....               No Title\n",
       "6   This is love: to fly toward a secret sky,\\n\\nt...               No Title\n",
       "47  You come to us\\nfrom another world\\n\\nFrom bey...  THE ALCHEMY OF LOVE\\n\n",
       "7   Love is reckless; not reason.\\n\\nReason seeks ...               No Title\n",
       "16  A lifetime without Love is of no account\\n\\nLo...               No Title"
      ]
     },
     "execution_count": 24,
     "metadata": {},
     "output_type": "execute_result"
    }
   ],
   "source": [
    "df_train.head()"
   ]
  },
  {
   "cell_type": "markdown",
   "metadata": {},
   "source": [
    "Create Model"
   ]
  },
  {
   "cell_type": "code",
   "execution_count": 25,
   "metadata": {},
   "outputs": [
    {
     "name": "stderr",
     "output_type": "stream",
     "text": [
      "/Users/willmundy/opt/anaconda3/envs/comp576/lib/python3.7/site-packages/transformers/modeling_auto.py:837: FutureWarning: The class `AutoModelWithLMHead` is deprecated and will be removed in a future version. Please use `AutoModelForCausalLM` for causal language models, `AutoModelForMaskedLM` for masked language models and `AutoModelForSeq2SeqLM` for encoder-decoder models.\n",
      "  FutureWarning,\n"
     ]
    }
   ],
   "source": [
    "from transformers import AutoTokenizer, AutoModelWithLMHead\n",
    "\n",
    "tokenizer = AutoTokenizer.from_pretrained(\"gpt2\")\n",
    "\n",
    "model = AutoModelWithLMHead.from_pretrained(\"gpt2\")"
   ]
  },
  {
   "cell_type": "code",
   "execution_count": 26,
   "metadata": {},
   "outputs": [
    {
     "data": {
      "text/plain": [
       "Embedding(50260, 768)"
      ]
     },
     "execution_count": 26,
     "metadata": {},
     "output_type": "execute_result"
    }
   ],
   "source": [
    "special_tokens_dict = {'bos_token': '<BOS>', 'eos_token': '<EOS>', 'pad_token': '<PAD>'}\n",
    "num_added_toks = tokenizer.add_special_tokens(special_tokens_dict)\n",
    "model.resize_token_embeddings(len(tokenizer))"
   ]
  },
  {
   "cell_type": "code",
   "execution_count": null,
   "metadata": {},
   "outputs": [],
   "source": []
  },
  {
   "cell_type": "code",
   "execution_count": 27,
   "metadata": {},
   "outputs": [
    {
     "data": {
      "text/plain": [
       "0     If anyone asks you\\nhow the perfect satisfacti...\n",
       "1     Love is the Water of Life\\n\\nEverything other ...\n",
       "2     A moment of happiness,\\n\\nyou and I sitting on...\n",
       "3     Lovers\\n\\nO lovers, lovers it is time\\nto set ...\n",
       "4     All through eternity\\n\\nBeauty unveils His exq...\n",
       "5     Let go of your worries\\n\\nand be completely cl...\n",
       "6     This is love: to fly toward a secret sky,\\n\\nt...\n",
       "7     Love is reckless; not reason.\\n\\nReason seeks ...\n",
       "8     I am a sculptor, a molder of form.\\n\\nIn every...\n",
       "9     Passion makes the old medicine new:\\n\\nPassion...\n",
       "10    The beauty of the heart\\n\\nis the lasting beau...\n",
       "11    “I am only the house of your beloved,\\n\\nnot t...\n",
       "12    The springtime of Lovers has come,\\n\\nthat thi...\n",
       "13    Love has nothing to do with\\n\\nthe five senses...\n",
       "14    When the rose is gone and the garden faded\\nyo...\n",
       "15    Because I cannot sleep\\nI make music at night....\n",
       "16    A lifetime without Love is of no account\\n\\nLo...\n",
       "17    Last night you lfet me and slept\\n\\nyour own d...\n",
       "18    Who is at my door?\\n\\nHe said, “Who is at my d...\n",
       "19    Don’t go anywhere without me.\\nLet nothing hap...\n",
       "20    Again I am raging, I am in such a state by you...\n",
       "21    Reason says, “I will beguile him with the tong...\n",
       "22    I have come so that, tugging your ear, I may d...\n",
       "23    It is the rule with drunkards to fall upon eac...\n",
       "24    It is the rule with drunkards to fall upon one...\n",
       "25    From these depths depart towards heaven;\\nmay ...\n",
       "26    This is love: to fly to heaven, every moment t...\n",
       "27    Sweetly parading you go my soul of soul, go no...\n",
       "28    Love is the One who masters all things;\\nI am ...\n",
       "29    Stay close, my heart, to the one who knows you...\n",
       "30    The lover’s food is the love of the bread;\\nno...\n",
       "31    Should Love’s heart rejoice unless I burn?\\nFo...\n",
       "32    Oh Beloved,\\ntake me.\\nLiberate my soul.\\nFill...\n",
       "33    Last night,\\nI was lying on the rooftop,\\nthin...\n",
       "34    In the early dawn of happiness\\nyou gave me th...\n",
       "35    Tonight is a night of union for the stars and ...\n",
       "36    Turn me like a waterwheel turning a millstone....\n",
       "37    That moon, which the sky ne’er saw even in dre...\n",
       "38    THROUGH LOVE all that is bitter will sweet\\nTh...\n",
       "39    ONCE a beloved asked her lover: “Friend,\\nYou ...\n",
       "40    FROM MYSELF I am copper,\\nthrough You, friend,...\n",
       "41    O SUN, fill our house once more with light!\\nM...\n",
       "42    HOW SHOULD THE SOUL not take wings\\nwhen from ...\n",
       "43    Lover whispers to my ear,\\n“Better to be a pre...\n",
       "44    how long\\ncan i lament\\nwith this depressed\\nh...\n",
       "45    rocking and rolling\\nwhat have you been drinki...\n",
       "46    show me your face\\ni crave\\nflowers and garden...\n",
       "47    You come to us\\nfrom another world\\n\\nFrom bey...\n",
       "48    A strange passion is moving in my head.\\nMy he...\n",
       "49    From the beginning of my life\\nI have been loo...\n",
       "50    Reason says, I will beguile him with the tongu...\n",
       "51    I saw my sweetheart wandering about the house;...\n",
       "dtype: object"
      ]
     },
     "execution_count": 27,
     "metadata": {},
     "output_type": "execute_result"
    }
   ],
   "source": [
    "data_csv.apply(lambda x: x[\"Content\"], axis=1)"
   ]
  },
  {
   "cell_type": "code",
   "execution_count": 2,
   "metadata": {},
   "outputs": [
    {
     "name": "stderr",
     "output_type": "stream",
     "text": [
      "100%|██████████| 1042301/1042301 [00:00<00:00, 2411734.63B/s]\n",
      "100%|██████████| 456318/456318 [00:00<00:00, 1802474.97B/s]\n",
      "100%|██████████| 665/665 [00:00<00:00, 263481.22B/s]\n",
      "100%|██████████| 548118077/548118077 [03:26<00:00, 2649617.02B/s]\n"
     ]
    }
   ],
   "source": []
  },
  {
   "cell_type": "markdown",
   "metadata": {},
   "source": [
    "Load the models"
   ]
  },
  {
   "cell_type": "code",
   "execution_count": null,
   "metadata": {},
   "outputs": [],
   "source": [
    "# Load data"
   ]
  },
  {
   "cell_type": "code",
   "execution_count": null,
   "metadata": {},
   "outputs": [],
   "source": []
  }
 ],
 "metadata": {
  "kernelspec": {
   "display_name": "Python 3",
   "language": "python",
   "name": "python3"
  },
  "language_info": {
   "codemirror_mode": {
    "name": "ipython",
    "version": 3
   },
   "file_extension": ".py",
   "mimetype": "text/x-python",
   "name": "python",
   "nbconvert_exporter": "python",
   "pygments_lexer": "ipython3",
   "version": "3.7.9"
  }
 },
 "nbformat": 4,
 "nbformat_minor": 4
}
